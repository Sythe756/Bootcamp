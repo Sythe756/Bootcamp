{
 "cells": [
  {
   "cell_type": "code",
   "execution_count": null,
   "metadata": {},
   "outputs": [],
   "source": [
    "#Exercise 1\n",
    "keys = ['Ten', 'Twenty', 'Thirty']\n",
    "values = [10, 20, 30]\n",
    "\n",
    "result = dict(zip(keys,values))\n",
    "print(result)"
   ]
  },
  {
   "cell_type": "code",
   "execution_count": null,
   "metadata": {},
   "outputs": [],
   "source": [
    "#Exercise 2\n",
    "family = {\"rick\": 43, 'beth': 13, 'morty': 5, 'summer': 8}\n",
    "\n",
    "# ticket_price = {'free: 0','child:10','adult:15'}\n",
    "total_cost = 0\n",
    "\n",
    "for members,age in family.items():\n",
    "  if age < 3:\n",
    "      total_cost += 0\n",
    "      cost = 0\n",
    "  elif  3 <= age <= 12:\n",
    "      total_cost += 10\n",
    "      cost = 10\n",
    "  else:\n",
    "    total_cost += 15\n",
    "    cost = 15\n",
    "  print(f\"{members} has to pay {cost}\")\n",
    "  # total_cost = total_cost + cost # or total_cost += cost\n",
    "print(f\"Your total cost is: ${total_cost}\")"
   ]
  },
  {
   "cell_type": "code",
   "execution_count": 46,
   "metadata": {},
   "outputs": [
    {
     "name": "stdout",
     "output_type": "stream",
     "text": [
      "Zara clients are men, women, children, home.\n",
      "{'name': 'Zara', 'creation_date': 1975, 'creator_name': 'Amancio Ortega Gaona', 'type_of_clothes': ['men', 'women', 'children', 'home'], 'international_competitors': ['Gap', 'H&M', 'Benetton'], 'number_stores': 2, 'major_color': {'France': ['blue'], 'Spain': ['red'], 'US': ['pink', 'green']}, 'contry_creation': 'Spain'}\n",
      "Benetton\n",
      "The major colors are: pink, green\n",
      "{'name': 'Zara', 'creator_name': 'Amancio Ortega Gaona', 'type_of_clothes': ['men', 'women', 'children', 'home'], 'international_competitors': ['Gap', 'H&M', 'Benetton', 'Desigual'], 'number_stores': 2, 'major_color': {'France': ['blue'], 'Spain': ['red'], 'US': ['pink', 'green']}, 'contry_creation': 'Spain'}\n",
      "Number of key-value pairs in the dictionary: 7\n",
      "This is the lenght of keys: ['name', 'creator_name', 'type_of_clothes', 'international_competitors', 'number_stores', 'major_color', 'contry_creation']\n",
      "{'creation_date': [1975], 'number_stores': [10000]}\n",
      "{'name': 'Zara', 'creator_name': 'Amancio Ortega Gaona', 'type_of_clothes': ['men', 'women', 'children', 'home'], 'international_competitors': ['Gap', 'H&M', 'Benetton', 'Desigual'], 'number_stores': [10000], 'major_color': {'France': ['blue'], 'Spain': ['red'], 'US': ['pink', 'green']}, 'contry_creation': 'Spain', 'creation_date': [1975]}\n",
      "[10000]\n"
     ]
    }
   ],
   "source": [
    "#Exercise 3\n",
    "brand = {\n",
    "  'name': 'Zara' ,\n",
    "  'creation_date': 1975 ,\n",
    "  'creator_name': 'Amancio Ortega Gaona', \n",
    "  'type_of_clothes': ['men', 'women', 'children', 'home'], \n",
    "  'international_competitors': ['Gap', 'H&M', 'Benetton'], \n",
    "  'number_stores': 7000 ,\n",
    "  'major_color': {\n",
    "  'France':['blue'], \n",
    "  'Spain': ['red'], \n",
    "  'US': ['pink', 'green']\n",
    "  }\n",
    "}\n",
    "brand['number_stores'] = 2\n",
    "client = \", \".join(brand[\"type_of_clothes\"])\n",
    "print(f\"Zara clients are {client }.\")\n",
    "brand['contry_creation'] = \"Spain\"\n",
    "print(brand)\n",
    "if 'international_competitors' in brand:\n",
    "  brand['international_competitors'].append('Desigual')\n",
    "del brand['creation_date']\n",
    "print(brand['international_competitors'][2])\n",
    "color = ', '.join(brand['major_color']['US'])\n",
    "print(f\"The major colors are: {color}\")\n",
    "print(brand)\n",
    "lengtOfDict = len(brand)\n",
    "print(\"Number of key-value pairs in the dictionary:\", lengtOfDict)\n",
    "lenOfKeys = list(brand.keys())\n",
    "print(f\"This is the lenght of keys: {lenOfKeys}\")\n",
    "more_on_zara = {}\n",
    "ze_keys = [['creation_date', 1975], ['number_stores', 10000]]\n",
    "for i in range(len(ze_keys)):\n",
    "\tif ze_keys[i][0] in more_on_zara:\n",
    "\t\tmore_on_zara[ze_keys[i][0]].append(ze_keys[i][1])\n",
    "\telse:\n",
    "\t\tmore_on_zara[ze_keys[i][0]]= []\n",
    "\t\tmore_on_zara[ze_keys[i][0]].append(ze_keys[i][1])\n",
    "print(more_on_zara)\n",
    "brand.update(more_on_zara)\n",
    "print(brand)\n",
    "print(brand['number_stores'])"
   ]
  },
  {
   "cell_type": "code",
   "execution_count": null,
   "metadata": {},
   "outputs": [],
   "source": []
  }
 ],
 "metadata": {
  "kernelspec": {
   "display_name": "Python 3",
   "language": "python",
   "name": "python3"
  },
  "language_info": {
   "codemirror_mode": {
    "name": "ipython",
    "version": 3
   },
   "file_extension": ".py",
   "mimetype": "text/x-python",
   "name": "python",
   "nbconvert_exporter": "python",
   "pygments_lexer": "ipython3",
   "version": "3.11.4"
  },
  "orig_nbformat": 4
 },
 "nbformat": 4,
 "nbformat_minor": 2
}
