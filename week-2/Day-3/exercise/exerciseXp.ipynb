{
 "cells": [
  {
   "cell_type": "code",
   "execution_count": 5,
   "metadata": {},
   "outputs": [
    {
     "name": "stdout",
     "output_type": "stream",
     "text": [
      "{'Ten': 10, 'Twenty': 20, 'Thirty': 30}\n"
     ]
    }
   ],
   "source": [
    "#Exercise 1\n",
    "keys = ['Ten', 'Twenty', 'Thirty']\n",
    "values = [10, 20, 30]\n",
    "\n",
    "result = dict(zip(keys,values))\n",
    "print(result)"
   ]
  },
  {
   "cell_type": "code",
   "execution_count": 6,
   "metadata": {},
   "outputs": [
    {
     "ename": "TypeError",
     "evalue": "unsupported operand type(s) for +: 'int' and 'str'",
     "output_type": "error",
     "traceback": [
      "\u001b[1;31m---------------------------------------------------------------------------\u001b[0m",
      "\u001b[1;31mTypeError\u001b[0m                                 Traceback (most recent call last)",
      "Cell \u001b[1;32mIn[6], line 14\u001b[0m\n\u001b[0;32m     12\u001b[0m   \u001b[39melse\u001b[39;00m:\n\u001b[0;32m     13\u001b[0m     cost \u001b[39m=\u001b[39m \u001b[39m\"\u001b[39m\u001b[39madult\u001b[39m\u001b[39m\"\u001b[39m\n\u001b[1;32m---> 14\u001b[0m   total_cost \u001b[39m=\u001b[39m total_cost \u001b[39m+\u001b[39;49m cost \u001b[39m# or total_cost += cost\u001b[39;00m\n\u001b[0;32m     15\u001b[0m   \u001b[39mprint\u001b[39m(\u001b[39mf\u001b[39m\u001b[39m\"\u001b[39m\u001b[39m{\u001b[39;00mmembers\u001b[39m}\u001b[39;00m\u001b[39m has to pay \u001b[39m\u001b[39m{\u001b[39;00mcost\u001b[39m}\u001b[39;00m\u001b[39m\"\u001b[39m)\n\u001b[0;32m     16\u001b[0m \u001b[39mprint\u001b[39m(\u001b[39mf\u001b[39m\u001b[39m\"\u001b[39m\u001b[39mYour total cost is: \u001b[39m\u001b[39m{\u001b[39;00mtotal_cost\u001b[39m}\u001b[39;00m\u001b[39m\"\u001b[39m)\n",
      "\u001b[1;31mTypeError\u001b[0m: unsupported operand type(s) for +: 'int' and 'str'"
     ]
    }
   ],
   "source": [
    "#Exercise 2\n",
    "family = {\"rick\": 43, 'beth': 13, 'morty': 5, 'summer': 8}\n",
    "\n",
    "ticket_price = {'free: 0','child:10','adult:15'}\n",
    "total_cost = 0\n",
    "\n",
    "for members,age in family.items():\n",
    "  if age < 3:\n",
    "      cost = \"free\"\n",
    "  elif  3 <= age <= 12:\n",
    "      cost = \"child\"\n",
    "  else:\n",
    "    cost = \"adult\"\n",
    "  total_cost = total_cost + cost # or total_cost += cost\n",
    "  print(f\"{members} has to pay {cost}\")\n",
    "print(f\"Your total cost is: {total_cost}\")"
   ]
  }
 ],
 "metadata": {
  "kernelspec": {
   "display_name": "Python 3",
   "language": "python",
   "name": "python3"
  },
  "language_info": {
   "codemirror_mode": {
    "name": "ipython",
    "version": 3
   },
   "file_extension": ".py",
   "mimetype": "text/x-python",
   "name": "python",
   "nbconvert_exporter": "python",
   "pygments_lexer": "ipython3",
   "version": "3.11.4"
  },
  "orig_nbformat": 4
 },
 "nbformat": 4,
 "nbformat_minor": 2
}
